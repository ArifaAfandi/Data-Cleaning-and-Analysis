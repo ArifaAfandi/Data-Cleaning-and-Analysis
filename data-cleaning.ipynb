{
 "cells": [
  {
   "cell_type": "code",
   "execution_count": 1,
   "id": "19dd111f-638b-4a7f-9ca6-1477c2c8fd7b",
   "metadata": {},
   "outputs": [],
   "source": [
    "import pandas as pd\n",
    "import warnings\n",
    "warnings.filterwarnings('ignore', category=UserWarning)"
   ]
  },
  {
   "cell_type": "code",
   "execution_count": 2,
   "id": "40e3099a-a421-4689-a6fe-d66fe97fd3df",
   "metadata": {},
   "outputs": [],
   "source": [
    "file_path = './MO14-Round-1-Dealing-With-Data-Workbook.xlsx'\n",
    "sheet_names = ['Contracts', 'Usage']\n",
    "\n",
    "dfs = pd.read_excel(file_path, sheet_name=sheet_names)\n",
    "\n",
    "df_contracts = dfs['Contracts']\n",
    "df_usage = dfs['Usage']"
   ]
  },
  {
   "cell_type": "code",
   "execution_count": 3,
   "id": "54bf09aa-56e2-4ed7-a164-098a9a703ab7",
   "metadata": {},
   "outputs": [
    {
     "name": "stdout",
     "output_type": "stream",
     "text": [
      "<class 'pandas.core.frame.DataFrame'>\n",
      "RangeIndex: 8759 entries, 0 to 8758\n",
      "Data columns (total 1 columns):\n",
      " #   Column                                  Non-Null Count  Dtype \n",
      "---  ------                                  --------------  ----- \n",
      " 0    3 PM  Mon 24th-Mar-2014___0.384 kwh    8759 non-null   object\n",
      "dtypes: object(1)\n",
      "memory usage: 68.6+ KB\n"
     ]
    },
    {
     "data": {
      "text/html": [
       "<div>\n",
       "<style scoped>\n",
       "    .dataframe tbody tr th:only-of-type {\n",
       "        vertical-align: middle;\n",
       "    }\n",
       "\n",
       "    .dataframe tbody tr th {\n",
       "        vertical-align: top;\n",
       "    }\n",
       "\n",
       "    .dataframe thead th {\n",
       "        text-align: right;\n",
       "    }\n",
       "</style>\n",
       "<table border=\"1\" class=\"dataframe\">\n",
       "  <thead>\n",
       "    <tr style=\"text-align: right;\">\n",
       "      <th></th>\n",
       "      <th>dirty_column</th>\n",
       "    </tr>\n",
       "  </thead>\n",
       "  <tbody>\n",
       "    <tr>\n",
       "      <th>0</th>\n",
       "      <td>3 PM  Mon 24th-Mar-2014___0.384 kwh</td>\n",
       "    </tr>\n",
       "    <tr>\n",
       "      <th>1</th>\n",
       "      <td>5AM  15-Aug-2014___1.201  kwh</td>\n",
       "    </tr>\n",
       "    <tr>\n",
       "      <th>2</th>\n",
       "      <td>__8PM Thu 20-Mar-2014____1.523 kwh</td>\n",
       "    </tr>\n",
       "    <tr>\n",
       "      <th>3</th>\n",
       "      <td>6PM  23rd-Apr-2014___0.424  kwh</td>\n",
       "    </tr>\n",
       "    <tr>\n",
       "      <th>4</th>\n",
       "      <td>_1AM  Friday 19th-Dec-2014___0.209  kwh</td>\n",
       "    </tr>\n",
       "    <tr>\n",
       "      <th>5</th>\n",
       "      <td>_5AM  Tue 19th-Aug-2014___1.228  kwh</td>\n",
       "    </tr>\n",
       "    <tr>\n",
       "      <th>6</th>\n",
       "      <td>12PM  Mon 7th-Jul-2014___1.296 kwh</td>\n",
       "    </tr>\n",
       "    <tr>\n",
       "      <th>7</th>\n",
       "      <td>7 AM  Tue 25-Nov-2014__0.437 kwh</td>\n",
       "    </tr>\n",
       "    <tr>\n",
       "      <th>8</th>\n",
       "      <td>_8AM  14-Aug-2014__0.523 kwh</td>\n",
       "    </tr>\n",
       "    <tr>\n",
       "      <th>9</th>\n",
       "      <td>__4PM  25th-Jan-2014__2.052kwh</td>\n",
       "    </tr>\n",
       "  </tbody>\n",
       "</table>\n",
       "</div>"
      ],
      "text/plain": [
       "                                dirty_column\n",
       "0      3 PM  Mon 24th-Mar-2014___0.384 kwh  \n",
       "1             5AM  15-Aug-2014___1.201  kwh \n",
       "2       __8PM Thu 20-Mar-2014____1.523 kwh  \n",
       "3            6PM  23rd-Apr-2014___0.424  kwh\n",
       "4  _1AM  Friday 19th-Dec-2014___0.209  kwh  \n",
       "5      _5AM  Tue 19th-Aug-2014___1.228  kwh \n",
       "6        12PM  Mon 7th-Jul-2014___1.296 kwh \n",
       "7           7 AM  Tue 25-Nov-2014__0.437 kwh\n",
       "8              _8AM  14-Aug-2014__0.523 kwh \n",
       "9           __4PM  25th-Jan-2014__2.052kwh  "
      ]
     },
     "execution_count": 3,
     "metadata": {},
     "output_type": "execute_result"
    }
   ],
   "source": [
    "# 1. Usage EDA and Cleaning\n",
    "df_usage.info()\n",
    "\n",
    "original_header = df_usage.columns[0]\n",
    "df_usage.loc[-1] = [original_header] \n",
    "df_usage.index = df_usage.index + 1 \n",
    "df_usage = df_usage.sort_index()\n",
    "df_usage = df_usage.reset_index(drop=True)\n",
    "df_usage = df_usage.rename(columns={df_usage.columns[0]: 'dirty_column'})\n",
    "df_usage.head(10)"
   ]
  },
  {
   "cell_type": "code",
   "execution_count": 4,
   "id": "8c4f7f7b-abbe-4c9a-b017-f2e144b56c0c",
   "metadata": {},
   "outputs": [
    {
     "data": {
      "text/plain": [
       "True"
      ]
     },
     "execution_count": 4,
     "metadata": {},
     "output_type": "execute_result"
    }
   ],
   "source": [
    "# checking if all rows have a string - 'kwh' (standalone)\n",
    "contains_kwh = df_usage['dirty_column'].str.contains(r'\\b(kwh)\\b', case=False)\n",
    "contains_kwh.all()\n",
    "\n",
    "# checking if all rows have a string - 'kwh' that may be not clean\n",
    "contains_kwh_notsa = df_usage['dirty_column'].str.contains('kwh', case=False)\n",
    "contains_kwh_notsa.all()\n",
    "\n",
    "# checking if all rows have a string - 'am' or 'pm' but clean\n",
    "contains_am_pm = df_usage['dirty_column'].str.contains(r'\\b(am|pm)\\b', case=False, regex=True)\n",
    "contains_am_pm.all()\n",
    "\n",
    "# checking if all rows have a string - 'am' or 'pm' but may be not clean\n",
    "contains_am_pm_notsa = df_usage['dirty_column'].str.contains('am|pm', case=False)\n",
    "contains_am_pm_notsa.all()"
   ]
  },
  {
   "cell_type": "code",
   "execution_count": 19,
   "id": "59f9e849-3c38-4b23-9fa5-b9c9512720fa",
   "metadata": {},
   "outputs": [
    {
     "data": {
      "text/plain": [
       "0       0.384\n",
       "1       1.201\n",
       "2       1.523\n",
       "3       0.424\n",
       "4       0.209\n",
       "        ...  \n",
       "8755    0.084\n",
       "8756    1.027\n",
       "8757    0.052\n",
       "8758    1.428\n",
       "8759    0.528\n",
       "Name: 0, Length: 8760, dtype: float64"
      ]
     },
     "execution_count": 19,
     "metadata": {},
     "output_type": "execute_result"
    }
   ],
   "source": [
    "dirty_electricity = df_usage['dirty_column'].str.extract(r'_(.*?)kwh')\n",
    "dirty_electricity[0].str.contains('_').all()\n",
    "dirty_electricity[0].isnull().values.any()\n",
    "dirty_electricity[0].str.extract(r'(?:_)?(\\d+\\.\\d+)', expand=False).astype(float).isnull().sum()\n",
    "clean_electricity_column = dirty_electricity[0].str.extract(r'(?:_)?(\\d+\\.\\d+)', expand=False).astype(float)\n",
    "clean_electricity_column"
   ]
  },
  {
   "cell_type": "code",
   "execution_count": 6,
   "id": "c69f68aa-09cf-42e7-ad51-ff033001b02e",
   "metadata": {},
   "outputs": [
    {
     "data": {
      "text/plain": [
       "0       Mar\n",
       "1       Aug\n",
       "2       Mar\n",
       "3       Apr\n",
       "4       Dec\n",
       "       ... \n",
       "8755    Nov\n",
       "8756    May\n",
       "8757    Apr\n",
       "8758    Jan\n",
       "8759    Aug\n",
       "Name: 1, Length: 8760, dtype: object"
      ]
     },
     "execution_count": 6,
     "metadata": {},
     "output_type": "execute_result"
    }
   ],
   "source": [
    "df_usage['dirty_column'].str.contains(r'(.*?)-(.*?)-(.*?)').all()\n",
    "df_usage['dirty_column'].str.contains(r'\\s(.*?)-(.*?)-(.*?)_').all()\n",
    "(df_usage['dirty_column'].str.extract(r'\\s(.*?)-(.*?)-(.*?)_')[2] == '2014').all()\n",
    "month_column = df_usage['dirty_column'].str.extract(r'\\s(.*?)-(.*?)-(.*?)_')[1]\n",
    "month_column"
   ]
  },
  {
   "cell_type": "code",
   "execution_count": 7,
   "id": "ff290fd1-1a40-4a04-88f3-46921302fabe",
   "metadata": {},
   "outputs": [
    {
     "data": {
      "text/plain": [
       "0            [3, PM, Mon, 24th]\n",
       "1                     [5AM, 15]\n",
       "2              [__8PM, Thu, 20]\n",
       "3                   [6PM, 23rd]\n",
       "4          [_1AM, Friday, 19th]\n",
       "                 ...           \n",
       "8755          [_1AM, Fri, 07th]\n",
       "8756                 [_6AM, 20]\n",
       "8757    [__2, AM, Tuesday, 8th]\n",
       "8758              [9, PM, 27th]\n",
       "8759            [_12, PM, 25th]\n",
       "Name: dirty_column, Length: 8760, dtype: object"
      ]
     },
     "execution_count": 7,
     "metadata": {},
     "output_type": "execute_result"
    }
   ],
   "source": [
    "df_date_dirty = df_usage['dirty_column'].str.split('-', n=1).str[0]\n",
    "df_date_dirty\n",
    "date_list_s = df_date_dirty.str.split()\n",
    "date_list_s"
   ]
  },
  {
   "cell_type": "code",
   "execution_count": 8,
   "id": "3181d258-d6d8-454f-b470-c16247d8b699",
   "metadata": {},
   "outputs": [],
   "source": [
    "def extract_digits(text):\n",
    "    return ''.join(filter(str.isdigit, text))\n",
    "\n",
    "def extract_weekday(lst):\n",
    "    lower_list = [item.lower() for item in lst]\n",
    "    result = [item for item in lower_list if item in {'mon', 'tue', 'wed', 'thu', 'fri', 'sat', 'sun', 'monday', 'tuesday', 'wednesday', 'thursday', 'friday', 'saturday', 'sunday'}]\n",
    "    return result[0] if result else pd.NA\n",
    "\n",
    "def replace_if_contains_day(text):\n",
    "    if pd.isna(text):\n",
    "        return text\n",
    "    elif 'day' in text.lower(): \n",
    "        return text[:3] \n",
    "    return text\n",
    "\n",
    "def extract_am_pm(lst):\n",
    "    lower_list = [item.lower() for item in lst]\n",
    "    for item in lower_list:\n",
    "        if 'am' in item:\n",
    "            return 'AM'\n",
    "        elif 'pm' in item:\n",
    "            return 'PM'\n",
    "    return pd.NA"
   ]
  },
  {
   "cell_type": "code",
   "execution_count": 9,
   "id": "11d68f09-8bae-4a43-b788-44053b189a74",
   "metadata": {},
   "outputs": [
    {
     "data": {
      "text/plain": [
       "0        3\n",
       "1        5\n",
       "2        8\n",
       "3        6\n",
       "4        1\n",
       "        ..\n",
       "8755     1\n",
       "8756     6\n",
       "8757     2\n",
       "8758     9\n",
       "8759    12\n",
       "Name: dirty_column, Length: 8760, dtype: int32"
      ]
     },
     "execution_count": 9,
     "metadata": {},
     "output_type": "execute_result"
    }
   ],
   "source": [
    "hour_column = date_list_s.apply(lambda x: extract_digits(x[0]) if x else '').astype(int)\n",
    "hour_column.isnull().sum()\n",
    "hour_column"
   ]
  },
  {
   "cell_type": "code",
   "execution_count": 10,
   "id": "7ef5fa64-7785-45e9-861d-4c927be3ec44",
   "metadata": {},
   "outputs": [
    {
     "data": {
      "text/plain": [
       "0       24\n",
       "1       15\n",
       "2       20\n",
       "3       23\n",
       "4       19\n",
       "        ..\n",
       "8755     7\n",
       "8756    20\n",
       "8757     8\n",
       "8758    27\n",
       "8759    25\n",
       "Name: dirty_column, Length: 8760, dtype: int32"
      ]
     },
     "execution_count": 10,
     "metadata": {},
     "output_type": "execute_result"
    }
   ],
   "source": [
    "day_column = date_list_s.apply(lambda x: extract_digits(x[len(x)-1]) if x else '').astype(int)\n",
    "day_column"
   ]
  },
  {
   "cell_type": "code",
   "execution_count": 11,
   "id": "2088ee28-0803-4da0-8846-3df371407957",
   "metadata": {},
   "outputs": [
    {
     "data": {
      "text/plain": [
       "0     mon\n",
       "1    <NA>\n",
       "2     thu\n",
       "3    <NA>\n",
       "4     fri\n",
       "5     tue\n",
       "6     mon\n",
       "7     tue\n",
       "8    <NA>\n",
       "9    <NA>\n",
       "Name: dirty_column, dtype: object"
      ]
     },
     "execution_count": 11,
     "metadata": {},
     "output_type": "execute_result"
    }
   ],
   "source": [
    "weekday_column = date_list_s.apply(extract_weekday)\n",
    "clean_weekday = weekday_column.apply(replace_if_contains_day)\n",
    "clean_weekday.head(10)"
   ]
  },
  {
   "cell_type": "code",
   "execution_count": 12,
   "id": "33ac51f6-7557-4661-a6dd-d01369d82b0d",
   "metadata": {},
   "outputs": [
    {
     "data": {
      "text/plain": [
       "0       PM\n",
       "1       AM\n",
       "2       PM\n",
       "3       PM\n",
       "4       AM\n",
       "        ..\n",
       "8755    AM\n",
       "8756    AM\n",
       "8757    AM\n",
       "8758    PM\n",
       "8759    PM\n",
       "Name: dirty_column, Length: 8760, dtype: object"
      ]
     },
     "execution_count": 12,
     "metadata": {},
     "output_type": "execute_result"
    }
   ],
   "source": [
    "time_indicator = date_list_s.apply(extract_am_pm)\n",
    "time_indicator"
   ]
  },
  {
   "cell_type": "code",
   "execution_count": 13,
   "id": "51261ac2-f88b-4e31-ab41-87b7796bb1e4",
   "metadata": {},
   "outputs": [
    {
     "data": {
      "text/html": [
       "<div>\n",
       "<style scoped>\n",
       "    .dataframe tbody tr th:only-of-type {\n",
       "        vertical-align: middle;\n",
       "    }\n",
       "\n",
       "    .dataframe tbody tr th {\n",
       "        vertical-align: top;\n",
       "    }\n",
       "\n",
       "    .dataframe thead th {\n",
       "        text-align: right;\n",
       "    }\n",
       "</style>\n",
       "<table border=\"1\" class=\"dataframe\">\n",
       "  <thead>\n",
       "    <tr style=\"text-align: right;\">\n",
       "      <th></th>\n",
       "      <th>Hour</th>\n",
       "      <th>TI(AM/PM)</th>\n",
       "      <th>Weekday</th>\n",
       "      <th>Day</th>\n",
       "      <th>Month</th>\n",
       "      <th>Electricity(kwh)</th>\n",
       "    </tr>\n",
       "  </thead>\n",
       "  <tbody>\n",
       "    <tr>\n",
       "      <th>0</th>\n",
       "      <td>3</td>\n",
       "      <td>PM</td>\n",
       "      <td>mon</td>\n",
       "      <td>24</td>\n",
       "      <td>Mar</td>\n",
       "      <td>0.384</td>\n",
       "    </tr>\n",
       "    <tr>\n",
       "      <th>1</th>\n",
       "      <td>5</td>\n",
       "      <td>AM</td>\n",
       "      <td>&lt;NA&gt;</td>\n",
       "      <td>15</td>\n",
       "      <td>Aug</td>\n",
       "      <td>1.201</td>\n",
       "    </tr>\n",
       "    <tr>\n",
       "      <th>2</th>\n",
       "      <td>8</td>\n",
       "      <td>PM</td>\n",
       "      <td>thu</td>\n",
       "      <td>20</td>\n",
       "      <td>Mar</td>\n",
       "      <td>1.523</td>\n",
       "    </tr>\n",
       "    <tr>\n",
       "      <th>3</th>\n",
       "      <td>6</td>\n",
       "      <td>PM</td>\n",
       "      <td>&lt;NA&gt;</td>\n",
       "      <td>23</td>\n",
       "      <td>Apr</td>\n",
       "      <td>0.424</td>\n",
       "    </tr>\n",
       "    <tr>\n",
       "      <th>4</th>\n",
       "      <td>1</td>\n",
       "      <td>AM</td>\n",
       "      <td>fri</td>\n",
       "      <td>19</td>\n",
       "      <td>Dec</td>\n",
       "      <td>0.209</td>\n",
       "    </tr>\n",
       "    <tr>\n",
       "      <th>...</th>\n",
       "      <td>...</td>\n",
       "      <td>...</td>\n",
       "      <td>...</td>\n",
       "      <td>...</td>\n",
       "      <td>...</td>\n",
       "      <td>...</td>\n",
       "    </tr>\n",
       "    <tr>\n",
       "      <th>8755</th>\n",
       "      <td>1</td>\n",
       "      <td>AM</td>\n",
       "      <td>fri</td>\n",
       "      <td>7</td>\n",
       "      <td>Nov</td>\n",
       "      <td>0.084</td>\n",
       "    </tr>\n",
       "    <tr>\n",
       "      <th>8756</th>\n",
       "      <td>6</td>\n",
       "      <td>AM</td>\n",
       "      <td>&lt;NA&gt;</td>\n",
       "      <td>20</td>\n",
       "      <td>May</td>\n",
       "      <td>1.027</td>\n",
       "    </tr>\n",
       "    <tr>\n",
       "      <th>8757</th>\n",
       "      <td>2</td>\n",
       "      <td>AM</td>\n",
       "      <td>tue</td>\n",
       "      <td>8</td>\n",
       "      <td>Apr</td>\n",
       "      <td>0.052</td>\n",
       "    </tr>\n",
       "    <tr>\n",
       "      <th>8758</th>\n",
       "      <td>9</td>\n",
       "      <td>PM</td>\n",
       "      <td>&lt;NA&gt;</td>\n",
       "      <td>27</td>\n",
       "      <td>Jan</td>\n",
       "      <td>1.428</td>\n",
       "    </tr>\n",
       "    <tr>\n",
       "      <th>8759</th>\n",
       "      <td>12</td>\n",
       "      <td>PM</td>\n",
       "      <td>&lt;NA&gt;</td>\n",
       "      <td>25</td>\n",
       "      <td>Aug</td>\n",
       "      <td>0.528</td>\n",
       "    </tr>\n",
       "  </tbody>\n",
       "</table>\n",
       "<p>8760 rows × 6 columns</p>\n",
       "</div>"
      ],
      "text/plain": [
       "      Hour TI(AM/PM) Weekday  Day Month  Electricity(kwh)\n",
       "0        3        PM     mon   24   Mar             0.384\n",
       "1        5        AM    <NA>   15   Aug             1.201\n",
       "2        8        PM     thu   20   Mar             1.523\n",
       "3        6        PM    <NA>   23   Apr             0.424\n",
       "4        1        AM     fri   19   Dec             0.209\n",
       "...    ...       ...     ...  ...   ...               ...\n",
       "8755     1        AM     fri    7   Nov             0.084\n",
       "8756     6        AM    <NA>   20   May             1.027\n",
       "8757     2        AM     tue    8   Apr             0.052\n",
       "8758     9        PM    <NA>   27   Jan             1.428\n",
       "8759    12        PM    <NA>   25   Aug             0.528\n",
       "\n",
       "[8760 rows x 6 columns]"
      ]
     },
     "execution_count": 13,
     "metadata": {},
     "output_type": "execute_result"
    }
   ],
   "source": [
    "df_usage_cleaned = pd.DataFrame({\n",
    "    'Hour': hour_column,\n",
    "    'TI(AM/PM)': time_indicator,\n",
    "    'Weekday': clean_weekday,\n",
    "    'Day': day_column,\n",
    "    'Month': month_column,\n",
    "    'Electricity(kwh)': clean_electricity_column\n",
    "})\n",
    "\n",
    "df_usage_cleaned"
   ]
  },
  {
   "cell_type": "code",
   "execution_count": 15,
   "id": "398a0f85-ca04-402b-a003-68f9f44a284c",
   "metadata": {},
   "outputs": [],
   "source": [
    "df_usage_cleaned.to_csv('usage.csv', index=False)"
   ]
  },
  {
   "cell_type": "code",
   "execution_count": 16,
   "id": "eca2e5f0-a5b5-4dae-9106-a0cb8e46b346",
   "metadata": {},
   "outputs": [],
   "source": [
    "# 2. Contracts EDA and Cleaning\n",
    "\n",
    "df = df_contracts.dropna(how='all').dropna(axis=1, how='all')\n",
    "\n",
    "def clean_table(table):\n",
    "    table = table.dropna(how='all').dropna(axis=1, how='all')\n",
    "    table.columns = table.iloc[0]\n",
    "    table = table[1:]\n",
    "    table = table.reset_index(drop=True)\n",
    "    return table\n",
    "\n",
    "no_flex = df.iloc[1:4, 0:2]\n",
    "no_flex_cleaned = clean_table(no_flex)\n",
    "\n",
    "monthly_flex = df.iloc[1:15, 3:5]\n",
    "monthly_flex_cleaned = clean_table(monthly_flex)\n",
    "\n",
    "hourly_flex = df.iloc[1:, 6:8]\n",
    "hourly_flex_cleaned = clean_table(hourly_flex)\n",
    "\n",
    "no_flex_cleaned.drop(columns='No Flex', inplace=True)\n",
    "no_flex_cleaned.columns = ['Rate']\n",
    "# no_flex_cleaned\n",
    "hourly_flex_cleaned.columns = ['Hourly', 'Rate']\n",
    "# hourly_flex_cleaned\n",
    "monthly_flex_cleaned.columns = ['Month', 'Rate']\n",
    "# monthly_flex_cleaned\n",
    "\n",
    "file_name = 'contracts.xlsx'\n",
    "with pd.ExcelWriter('contracts.xlsx') as writer:\n",
    "    no_flex_cleaned.to_excel(writer, sheet_name='no flex', index=False)\n",
    "    hourly_flex_cleaned.to_excel(writer, sheet_name='hourly flex', index=False)\n",
    "    monthly_flex_cleaned.to_excel(writer, sheet_name='monthly flex', index=False)"
   ]
  },
  {
   "cell_type": "code",
   "execution_count": 17,
   "id": "c644a464-28b2-4600-9edd-e9f254e2d97b",
   "metadata": {},
   "outputs": [
    {
     "data": {
      "text/html": [
       "<div>\n",
       "<style scoped>\n",
       "    .dataframe tbody tr th:only-of-type {\n",
       "        vertical-align: middle;\n",
       "    }\n",
       "\n",
       "    .dataframe tbody tr th {\n",
       "        vertical-align: top;\n",
       "    }\n",
       "\n",
       "    .dataframe thead th {\n",
       "        text-align: right;\n",
       "    }\n",
       "</style>\n",
       "<table border=\"1\" class=\"dataframe\">\n",
       "  <thead>\n",
       "    <tr style=\"text-align: right;\">\n",
       "      <th></th>\n",
       "      <th>Month</th>\n",
       "      <th>Rate</th>\n",
       "    </tr>\n",
       "  </thead>\n",
       "  <tbody>\n",
       "    <tr>\n",
       "      <th>0</th>\n",
       "      <td>January</td>\n",
       "      <td>0.20</td>\n",
       "    </tr>\n",
       "    <tr>\n",
       "      <th>1</th>\n",
       "      <td>February</td>\n",
       "      <td>0.19</td>\n",
       "    </tr>\n",
       "    <tr>\n",
       "      <th>2</th>\n",
       "      <td>March</td>\n",
       "      <td>0.17</td>\n",
       "    </tr>\n",
       "    <tr>\n",
       "      <th>3</th>\n",
       "      <td>April</td>\n",
       "      <td>0.18</td>\n",
       "    </tr>\n",
       "    <tr>\n",
       "      <th>4</th>\n",
       "      <td>May</td>\n",
       "      <td>0.22</td>\n",
       "    </tr>\n",
       "    <tr>\n",
       "      <th>5</th>\n",
       "      <td>June</td>\n",
       "      <td>0.27</td>\n",
       "    </tr>\n",
       "    <tr>\n",
       "      <th>6</th>\n",
       "      <td>July</td>\n",
       "      <td>0.24</td>\n",
       "    </tr>\n",
       "    <tr>\n",
       "      <th>7</th>\n",
       "      <td>August</td>\n",
       "      <td>0.19</td>\n",
       "    </tr>\n",
       "    <tr>\n",
       "      <th>8</th>\n",
       "      <td>September</td>\n",
       "      <td>0.18</td>\n",
       "    </tr>\n",
       "    <tr>\n",
       "      <th>9</th>\n",
       "      <td>October</td>\n",
       "      <td>0.15</td>\n",
       "    </tr>\n",
       "    <tr>\n",
       "      <th>10</th>\n",
       "      <td>November</td>\n",
       "      <td>0.14</td>\n",
       "    </tr>\n",
       "    <tr>\n",
       "      <th>11</th>\n",
       "      <td>December</td>\n",
       "      <td>0.19</td>\n",
       "    </tr>\n",
       "  </tbody>\n",
       "</table>\n",
       "</div>"
      ],
      "text/plain": [
       "        Month  Rate\n",
       "0     January  0.20\n",
       "1    February  0.19\n",
       "2       March  0.17\n",
       "3       April  0.18\n",
       "4         May  0.22\n",
       "5        June  0.27\n",
       "6        July  0.24\n",
       "7      August  0.19\n",
       "8   September  0.18\n",
       "9     October  0.15\n",
       "10   November  0.14\n",
       "11   December  0.19"
      ]
     },
     "execution_count": 17,
     "metadata": {},
     "output_type": "execute_result"
    }
   ],
   "source": [
    "#test\n",
    "df = pd.read_excel('./contracts.xlsx', sheet_name='no flex')\n",
    "df1 = pd.read_excel('./contracts.xlsx', sheet_name='hourly flex')\n",
    "df2 = pd.read_excel('./contracts.xlsx', sheet_name='monthly flex')\n",
    "df2"
   ]
  },
  {
   "cell_type": "code",
   "execution_count": null,
   "id": "cdfc23aa-d303-43df-967b-2c84a5548218",
   "metadata": {},
   "outputs": [],
   "source": []
  }
 ],
 "metadata": {
  "kernelspec": {
   "display_name": "Python 3 (ipykernel)",
   "language": "python",
   "name": "python3"
  },
  "language_info": {
   "codemirror_mode": {
    "name": "ipython",
    "version": 3
   },
   "file_extension": ".py",
   "mimetype": "text/x-python",
   "name": "python",
   "nbconvert_exporter": "python",
   "pygments_lexer": "ipython3",
   "version": "3.11.7"
  }
 },
 "nbformat": 4,
 "nbformat_minor": 5
}
